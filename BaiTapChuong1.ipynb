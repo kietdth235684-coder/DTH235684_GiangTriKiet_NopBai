{
  "nbformat": 4,
  "nbformat_minor": 0,
  "metadata": {
    "colab": {
      "provenance": [],
      "include_colab_link": true
    },
    "kernelspec": {
      "name": "python3",
      "display_name": "Python 3"
    },
    "language_info": {
      "name": "python"
    }
  },
  "cells": [
    {
      "cell_type": "markdown",
      "metadata": {
        "id": "view-in-github",
        "colab_type": "text"
      },
      "source": [
        "<a href=\"https://colab.research.google.com/github/Kantou002/DTH235710_HoangTranThanhNhan_NopBai/blob/main/BaiTapChuong1.ipynb\" target=\"_parent\"><img src=\"https://colab.research.google.com/assets/colab-badge.svg\" alt=\"Open In Colab\"/></a>"
      ]
    },
    {
      "cell_type": "code",
      "execution_count": null,
      "metadata": {
        "colab": {
          "base_uri": "https://localhost:8080/"
        },
        "id": "t10djHBxSXK-",
        "outputId": "13ccaac5-a4ef-48c0-fb99-e3f04f46c31b"
      },
      "outputs": [
        {
          "output_type": "stream",
          "name": "stdout",
          "text": [
            "Albert Einstein da tung noi: Mot nguoi khong bao gio mac sai lam khong bao gio thu bat ky dieu gi moi.\n"
          ]
        }
      ],
      "source": [
        "print(\"Albert Einstein da tung noi: Mot nguoi khong bao gio mac sai lam khong bao gio thu bat ky dieu gi moi.\")\n"
      ]
    },
    {
      "cell_type": "code",
      "source": [
        "print('Chao cac ban!')"
      ],
      "metadata": {
        "colab": {
          "base_uri": "https://localhost:8080/"
        },
        "id": "L-jgcR2kmg19",
        "outputId": "c7488744-c61b-4fb4-f567-0b241c499a60"
      },
      "execution_count": 1,
      "outputs": [
        {
          "output_type": "stream",
          "name": "stdout",
          "text": [
            "Chao cac ban!\n"
          ]
        }
      ]
    },
    {
      "cell_type": "code",
      "source": [
        "name=input('Nhap ten cua ban: ')\n",
        "print(name)"
      ],
      "metadata": {
        "colab": {
          "base_uri": "https://localhost:8080/"
        },
        "id": "DjK6-Jz5mhCd",
        "outputId": "b73cf059-fb65-4d8e-ce63-b3b2f2170aec"
      },
      "execution_count": 2,
      "outputs": [
        {
          "output_type": "stream",
          "name": "stdout",
          "text": [
            "Nhap ten cua ban: Hoang Tran Thanh Nhan\n",
            "Chao ban Hoang Tran Thanh Nhan\n"
          ]
        }
      ]
    },
    {
      "cell_type": "code",
      "source": [
        "#Chuong Trinh tinh tong 2 so\n",
        "\n",
        "#Nhap 2 so tu ban phim\n",
        "a = int(input(\"Nhap so a: \"))\n",
        "b = int(input(\"Nhap so b: \"))\n",
        "#Tinh tong 2 so\n",
        "tong = a + b\n",
        "#In ket qua\n",
        "print(\"Tong cua 2 so la: \", tong)\n"
      ],
      "metadata": {
        "colab": {
          "base_uri": "https://localhost:8080/"
        },
        "id": "VmRKJv_GSxJS",
        "outputId": "da84768f-f22c-4815-e935-e2f6712370e0"
      },
      "execution_count": null,
      "outputs": [
        {
          "output_type": "stream",
          "name": "stdout",
          "text": [
            "Nhap so a: 1\n",
            "Nhap so b: 5\n",
            "Tong cua 2 so la:  6\n"
          ]
        }
      ]
    },
    {
      "cell_type": "code",
      "source": [
        "total = 1 + \\\n",
        "2 + \\\n",
        "3\n",
        "print(total); print ('Hello Python!')"
      ],
      "metadata": {
        "colab": {
          "base_uri": "https://localhost:8080/"
        },
        "id": "xxpP77CaWMU4",
        "outputId": "92d3c766-7616-4e07-885f-aa9ff2483819"
      },
      "execution_count": null,
      "outputs": [
        {
          "output_type": "stream",
          "name": "stdout",
          "text": [
            "6\n",
            "Hello Python!\n"
          ]
        }
      ]
    },
    {
      "cell_type": "code",
      "source": [
        "if 5>2:\n",
        "  print ('Five is greater than two!')\n"
      ],
      "metadata": {
        "colab": {
          "base_uri": "https://localhost:8080/"
        },
        "id": "dFf7sMmuS7GP",
        "outputId": "674a9396-f008-4f0b-b1d3-3b2bb3c1db4e"
      },
      "execution_count": null,
      "outputs": [
        {
          "output_type": "stream",
          "name": "stdout",
          "text": [
            "Five is greater than two!\n"
          ]
        }
      ]
    },
    {
      "cell_type": "code",
      "source": [
        "if True:\n",
        " print('True')\n",
        "else:\n",
        "  print('False')"
      ],
      "metadata": {
        "colab": {
          "base_uri": "https://localhost:8080/"
        },
        "id": "Zq5Qu1YYWRoH",
        "outputId": "8a525129-7962-41d8-fe1f-c8e898c6fd87"
      },
      "execution_count": null,
      "outputs": [
        {
          "output_type": "stream",
          "name": "stdout",
          "text": [
            "True\n"
          ]
        }
      ]
    },
    {
      "cell_type": "code",
      "source": [
        "#This is a comment\n",
        "print('Hello, World')"
      ],
      "metadata": {
        "colab": {
          "base_uri": "https://localhost:8080/"
        },
        "id": "rek4eUVGWSX8",
        "outputId": "df380ef0-ccfe-4b0e-fb18-9dda2b53d48c"
      },
      "execution_count": null,
      "outputs": [
        {
          "output_type": "stream",
          "name": "stdout",
          "text": [
            "Hello, World\n"
          ]
        }
      ]
    },
    {
      "cell_type": "code",
      "source": [
        "%%writefile math_libs.py\n",
        "def add(a,b):\n",
        "  result = a+b\n",
        "  return result"
      ],
      "metadata": {
        "id": "fEr3sSk6WwdK",
        "outputId": "6bec7ab0-f803-4ffb-f53a-fe68de46bd03",
        "colab": {
          "base_uri": "https://localhost:8080/"
        }
      },
      "execution_count": null,
      "outputs": [
        {
          "output_type": "stream",
          "name": "stdout",
          "text": [
            "Writing math_libs.py\n"
          ]
        }
      ]
    },
    {
      "cell_type": "code",
      "source": [
        "import math\n",
        "import os"
      ],
      "metadata": {
        "id": "uiWEQNtNXTNy"
      },
      "execution_count": null,
      "outputs": []
    },
    {
      "cell_type": "code",
      "source": [
        "import math_libs\n",
        "math_libs.add(4,5)"
      ],
      "metadata": {
        "id": "wKrdmnJDXXI1",
        "outputId": "a3a9127f-7639-4662-b13b-54b06c2f0e15",
        "colab": {
          "base_uri": "https://localhost:8080/"
        }
      },
      "execution_count": null,
      "outputs": [
        {
          "output_type": "execute_result",
          "data": {
            "text/plain": [
              "9"
            ]
          },
          "metadata": {},
          "execution_count": 2
        }
      ]
    },
    {
      "cell_type": "code",
      "source": [
        "#module1.py\n",
        "%%writefile module1.py\n",
        "question='What is the meaning of Life, The Universe, and Everything?'\n",
        "answer=42"
      ],
      "metadata": {
        "id": "nCUJ6EVtYFYn",
        "outputId": "b1162f43-d6ef-487a-a9cd-51c602e9f0cb",
        "colab": {
          "base_uri": "https://localhost:8080/"
        }
      },
      "execution_count": null,
      "outputs": [
        {
          "output_type": "stream",
          "name": "stdout",
          "text": [
            "Writing module1.py\n"
          ]
        }
      ]
    },
    {
      "cell_type": "code",
      "source": [
        "#module2.py\n",
        "%%writefile module2.py\n",
        "question ='What is your quest?'\n",
        "answer= 'To seek the holy grail'"
      ],
      "metadata": {
        "id": "jhRoOWHlXfGV",
        "outputId": "1334efc9-1a31-424f-e1ab-58371f5ecbf6",
        "colab": {
          "base_uri": "https://localhost:8080/"
        }
      },
      "execution_count": null,
      "outputs": [
        {
          "output_type": "stream",
          "name": "stdout",
          "text": [
            "Writing module2.py\n"
          ]
        }
      ]
    },
    {
      "cell_type": "code",
      "source": [
        "import module1\n",
        "import module2\n",
        "print(module1.question)\n",
        "print(module1.answer)\n",
        "print(module2.question)\n",
        "print(module2.answer)"
      ],
      "metadata": {
        "colab": {
          "base_uri": "https://localhost:8080/"
        },
        "id": "F7GveXCaYPZt",
        "outputId": "e4bf4ffa-8eca-4977-8da8-c19c6c964c4c"
      },
      "execution_count": null,
      "outputs": [
        {
          "output_type": "stream",
          "name": "stdout",
          "text": [
            "What is the meaning of Life, The Universe, and Everything?\n",
            "42\n",
            "What is your quest?\n",
            "To seek the holy grail\n"
          ]
        }
      ]
    }
  ]
}